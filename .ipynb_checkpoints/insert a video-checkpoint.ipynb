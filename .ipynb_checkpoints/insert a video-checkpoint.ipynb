{
 "cells": [
  {
   "cell_type": "code",
   "execution_count": null,
   "metadata": {},
   "outputs": [],
   "source": [
    "import cv2\n",
    "import numpy as np\n",
    "#insert a video\n",
    "'''cap=cv2.VideoCapture(\"myvideo.avi\")\n",
    "\n",
    "if (cap.isOpened()==False):\n",
    "    print(\"Error opening\")\n",
    "while(cap.isOpened()):\n",
    "    ret, frame=cap.read()\n",
    "    if ret==True:\n",
    "        cv2.imshow('Video Frame', frame)\n",
    "        if cv2.waitKey(25) & 0xFF == ord('q'):\n",
    "            break\n",
    "    else:\n",
    "        break\n",
    "'''\n",
    "#capture image from webcam\n",
    "'''cap = cv2.VideoCapture(0)\n",
    "i = 0\n",
    "\n",
    "while(cap.isOpened()):\n",
    "    ret, frame = cap.read()\n",
    "    if ret == False:\n",
    "        break\n",
    "    cv2.imwrite('Frame'+str(i)+'.jpg', frame)\n",
    "    i += 1\n",
    "'''\n",
    "#capture image from a video\n",
    "'''\n",
    "cap = cv2.VideoCapture('myvideo.avi')\n",
    "i=0\n",
    "\n",
    "while (cap.isOpened()):\n",
    "    ret, frame = cap.read()\n",
    "    if ret == False:\n",
    "        break\n",
    "    cv2.imwrite('Picture'+str(i)+'.jpg', frame)\n",
    "    i += 1\n",
    "    if cv2.waitKey(25) & 0xFF == ord('q'):\n",
    "        break\n",
    "'''\n",
    "cap = cv2.VideoCapture(0)\n",
    "\n",
    "while (cap.isOpened()):\n",
    "    ret, frame = cap.read()\n",
    "    cv2.imshow('videooo',frame)\n",
    "    if cv2.waitKey(25) & 0xFF == ord('s'):\n",
    "        break\n",
    "    else:\n",
    "        break\n",
    "        \n",
    "cap.release()\n",
    "cv2.destroyAllWindows()\n"
   ]
  },
  {
   "cell_type": "code",
   "execution_count": 1,
   "metadata": {},
   "outputs": [
    {
     "data": {
      "text/plain": [
       "-1"
      ]
     },
     "execution_count": 1,
     "metadata": {},
     "output_type": "execute_result"
    }
   ],
   "source": [
    "import cv2\n",
    "image=cv2.imread('SAGOR.jpg')\n",
    "img=cv2.resize(image,(600,600))\n",
    "cv2.imshow('image',img)\n",
    "cv2.waitKey(0)"
   ]
  },
  {
   "cell_type": "code",
   "execution_count": null,
   "metadata": {},
   "outputs": [],
   "source": []
  }
 ],
 "metadata": {
  "kernelspec": {
   "display_name": "Python 3",
   "language": "python",
   "name": "python3"
  },
  "language_info": {
   "codemirror_mode": {
    "name": "ipython",
    "version": 3
   },
   "file_extension": ".py",
   "mimetype": "text/x-python",
   "name": "python",
   "nbconvert_exporter": "python",
   "pygments_lexer": "ipython3",
   "version": "3.7.10"
  }
 },
 "nbformat": 4,
 "nbformat_minor": 4
}
